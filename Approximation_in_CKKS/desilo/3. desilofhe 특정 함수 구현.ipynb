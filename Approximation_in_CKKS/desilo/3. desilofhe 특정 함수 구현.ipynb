{
 "cells": [
  {
   "cell_type": "markdown",
   "id": "2af4814b",
   "metadata": {},
   "source": [
    "## IF문\n",
    "\n",
    "- if ciphertext == 1:\n",
    "    \n",
    "        A\n",
    "        \n",
    "        일경우\n",
    "    \n",
    "        ciphertext and A로 진행"
   ]
  },
  {
   "cell_type": "code",
   "execution_count": 19,
   "id": "20cefe53",
   "metadata": {},
   "outputs": [
    {
     "name": "stdout",
     "output_type": "stream",
     "text": [
      "2번쨰 경우의 seed: [1, 2]\n",
      "3번쨰 경우의 seed: [1]\n"
     ]
    }
   ],
   "source": [
    "#Setup\n",
    "from EncryptModule import CKKSEncryptor\n",
    "encryptor = CKKSEncryptor()\n",
    "\n",
    "engine = encryptor.get_engine()\n",
    "secret_key = encryptor.get_secret_key()\n",
    "public_key = encryptor.get_public_key()\n",
    "\n",
    "result = engine.encrypt([1], public_key)\n",
    "\n",
    "#1 틀린 과정\n",
    "# seed1=[]\n",
    "# result(seed1.append(1))+(engine.substract(1,result)(seed1.append(2)))\n",
    "# print(f\"1번쨰 경우의 seed: {seed1}\")\n",
    "\n",
    "#2 틀린 과정\n",
    "seed2=[]\n",
    "(result and seed2.append(1)) or (engine.subtract(1,result) and (seed2.append(2)))\n",
    "print(f\"2번쨰 경우의 seed: {seed2}\")\n",
    "\n",
    "#3 정답\n",
    "# append 함수는 None을 반환하므로, 좌항을 실행한 후 None을 출력 → 이로 인해 좌항이 false로 간주되어 우항도 실행됨. 따라서 append 함수를 별도의 함수로 감싸서 True를 반환하도록 함.\n",
    "def temp_appen(a,arr):\n",
    "    arr.append(a)\n",
    "    return 1\n",
    "\n",
    "seed3 = []\n",
    "(result and temp_appen(1,seed3)) or (engine.subtract(1,result) and temp_appen(2,seed3))\n",
    "print(f\"3번쨰 경우의 seed: {seed3}\")"
   ]
  },
  {
   "cell_type": "markdown",
   "id": "3be3352f",
   "metadata": {},
   "source": [
    "## Len\n",
    "\n",
    "- len(ciphertext)로 진행(ciphertext의 차원은 1차원만 가능)\n",
    "- 무조건 input data값에 *engine.slot_count을 해줘야 정상적으로 개수 파악 가능"
   ]
  },
  {
   "cell_type": "code",
   "execution_count": 22,
   "id": "043fcda0",
   "metadata": {},
   "outputs": [
    {
     "name": "stdout",
     "output_type": "stream",
     "text": [
      "data1's length(3개): 3\n",
      "data2's length(4개): 4\n"
     ]
    }
   ],
   "source": [
    "# Len 사용법\n",
    "from desilofhe import Engine\n",
    "from time import time\n",
    "import numpy as np\n",
    "from EncryptModule import CKKSEncryptor\n",
    "def encrypted_euclidean(p_enc, q_enc, engine, rotation_key, relinearization_key, num_of_slots):\n",
    "    \"\"\"\n",
    "    p_enc와 q_enc는 암호화된 벡터\n",
    "    제곱된 거리를 반환\n",
    "    \n",
    "    수정해야할 점\n",
    "    1. 굳이 num_of_slots를 지정해줘야 하나?\n",
    "    \"\"\"\n",
    "    diff = engine.subtract(p_enc, q_enc)\n",
    "    diff_squared = engine.square(diff, relinearization_key)\n",
    "    squared_sum_enc = sum_encrypted_vector(diff_squared, engine, rotation_key, num_of_slots)\n",
    "    return squared_sum_enc\n",
    "\n",
    "def sum_encrypted_vector(enc_vector, engine, rotation_key, num_of_slots):\n",
    "    result = enc_vector\n",
    "    step = 1\n",
    "    while step < num_of_slots:\n",
    "        rotated = engine.rotate(result, rotation_key, step)\n",
    "        result = engine.add(result, rotated)\n",
    "        step *= 2\n",
    "    return result\n",
    "\n",
    "# 테스트용 메인 함수\n",
    "def main():\n",
    "    encryptor = CKKSEncryptor()\n",
    "\n",
    "    engine = encryptor.get_engine()\n",
    "    public_key = encryptor.get_public_key()\n",
    "\n",
    "    data1 = [1, 2, 3]*engine.slot_count\n",
    "    data2 = [1,2]*2*engine.slot_count\n",
    "    encrypted_data1 = engine.encrypt(data1, public_key)\n",
    "    encrypted_data2 = engine.encrypt(data2, public_key) \n",
    "    print(f\"data1's length(3개): {len(encrypted_data1)}\")\n",
    "    print(f\"data2's length(4개): {len(encrypted_data2)}\") \n",
    "    \n",
    "    \n",
    "\n",
    "if __name__ == \"__main__\":\n",
    "    main()"
   ]
  }
 ],
 "metadata": {
  "kernelspec": {
   "display_name": "Python 3",
   "language": "python",
   "name": "python3"
  },
  "language_info": {
   "codemirror_mode": {
    "name": "ipython",
    "version": 3
   },
   "file_extension": ".py",
   "mimetype": "text/x-python",
   "name": "python",
   "nbconvert_exporter": "python",
   "pygments_lexer": "ipython3",
   "version": "3.10.12"
  }
 },
 "nbformat": 4,
 "nbformat_minor": 5
}
