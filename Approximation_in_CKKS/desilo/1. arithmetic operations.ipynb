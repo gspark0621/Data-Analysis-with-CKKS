{
 "cells": [
  {
   "cell_type": "markdown",
   "id": "4ebb12e2",
   "metadata": {},
   "source": [
    "## Setting\n",
    "- Desilo key 생성"
   ]
  },
  {
   "cell_type": "code",
   "execution_count": 1,
   "id": "d68bee00",
   "metadata": {},
   "outputs": [],
   "source": [
    "from desilofhe import Engine\n",
    "\n",
    "engine = Engine(use_bootstrap=True)\n",
    "\n",
    "secret_key = engine.create_secret_key()\n",
    "public_key = engine.create_public_key(secret_key)\n",
    "relinearization_key = engine.create_relinearization_key(secret_key)\n",
    "conjugation_key = engine.create_conjugation_key(secret_key)\n",
    "bootstrap_key = engine.create_bootstrap_key(secret_key)"
   ]
  },
  {
   "cell_type": "markdown",
   "id": "eb044c26",
   "metadata": {},
   "source": [
    "Division(Inverse) Algorithm\n",
    "\n",
    "- 나눗셈이나 역수를 진행하는 함수의 CKKS(Desilo) 근사 구현"
   ]
  },
  {
   "cell_type": "code",
   "execution_count": 2,
   "id": "a6ede164",
   "metadata": {},
   "outputs": [
    {
     "name": "stdout",
     "output_type": "stream",
     "text": [
      "Inv(1/3) = 3.0000000000339138\n",
      "Inv(2/3) = 1.5000000000044602\n",
      "Inv(3/3) = 0.9999999999985149\n"
     ]
    }
   ],
   "source": [
    "#Division(Inverse) algorithm(depth: 2d)\n",
    "def Inv(x, d, relineralization_key):  # 0 < x < 2\n",
    "    a = engine.subtract(2, x)  # a = 2 - x\n",
    "    b = engine.subtract(1, x)  # b = 1 - x\n",
    "    for _ in range(d):\n",
    "        b = engine.multiply(b, b, relineralization_key)  # b = b^2\n",
    "        a = engine.multiply(a, engine.add(1, b), relineralization_key)  # a = a * (1 + b)\n",
    "\n",
    "    return a\n",
    "\n",
    "\n",
    "def main():\n",
    "    data = [1, 2, 3]\n",
    "    scale_down_factor = 3\n",
    "    \n",
    "    # 1. data의 첫번쨰 원소만 암호화한 후 Inv 실행\n",
    "    val_scaled_down = [x / scale_down_factor for x in data]\n",
    "    enc_data = engine.encrypt(val_scaled_down, public_key)\n",
    "\n",
    "    # 2. Inv 연산 적용\n",
    "    inv_val_scaled_down = Inv(enc_data, 5, relinearization_key)\n",
    "    plt_inv_val = engine.decrypt(inv_val_scaled_down, secret_key)\n",
    "\n",
    "    # 3. 각 요소별 결과 출력\n",
    "    inv_results = [val for val in plt_inv_val[:len(data)]]\n",
    "    for i, res in enumerate(inv_results):\n",
    "        print(f\"Inv({data[i]}/{scale_down_factor}) = {res}\")\n",
    "\n",
    "\n",
    "\n",
    "if __name__ == '__main__':\n",
    "    main()\n"
   ]
  },
  {
   "cell_type": "markdown",
   "id": "eba479c2",
   "metadata": {},
   "source": [
    "Square root Algorithm\n",
    "\n",
    "- Square root를 진행하는 함수의 CKKS(Desilo) 근사 구현"
   ]
  },
  {
   "cell_type": "code",
   "execution_count": 3,
   "id": "9d1756c2",
   "metadata": {},
   "outputs": [
    {
     "name": "stdout",
     "output_type": "stream",
     "text": [
      "scaling factor = 4\n",
      "\n",
      "=== data[0] = 0.25 / 근사해야 하는 값 = 0.5 ===\n",
      "sqrt(0.25) = 0.3437500000449655\n",
      "\n",
      "=== data[1] = 0.5 / 근사해야 하는 값 = 0.7071067811865476 ===\n",
      "sqrt(0.5) = 0.6250000000065065\n",
      "\n",
      "=== data[2] = 0.75 / 근사해야 하는 값 = 0.8660254037844386 ===\n",
      "sqrt(0.75) = 0.843749999999468\n"
     ]
    }
   ],
   "source": [
    "#Square root algorithm\n",
    "\n",
    "import math\n",
    "\n",
    "def sqrt(x, d, relinearization_key, conjugation_key, bootstrap_key):  # 0 <= x <= 1\n",
    "    a = x\n",
    "    b = engine.subtract(x, 1)  # b = x - 1\n",
    "    \n",
    "    for _ in range(d):\n",
    "        # a = a * (1 - b / 2)\n",
    "        factor = engine.subtract(1, engine.multiply(0.5, b))\n",
    "        a = engine.multiply(a, factor, relinearization_key)\n",
    "\n",
    "        # b = b^2 * (b - 3)/4\n",
    "        b_squared = engine.square(b, relinearization_key)\n",
    "        b_minus_3 = engine.subtract(b, 3)\n",
    "        numerator = engine.multiply(b_squared, b_minus_3, relinearization_key)\n",
    "        b = engine.multiply(numerator, 0.25)\n",
    "        if factor.level < 3 or a.level < 3 or b.level < 3:\n",
    "            a = engine.bootstrap(a,relinearization_key, conjugation_key, bootstrap_key)\n",
    "            b = engine.bootstrap(b,relinearization_key, conjugation_key, bootstrap_key)\n",
    "            print(\"Bootstrapping performed\")\n",
    "        return a\n",
    "\n",
    "\n",
    "def main():\n",
    "    data = [1, 2, 3]\n",
    "    scale_down_factor = 4\n",
    "    print(f\"scaling factor = {scale_down_factor}\")\n",
    "    for i, val in enumerate(data):\n",
    "        \n",
    "\n",
    "        # 1. 원본 값 암호화 및 복호화 확인\n",
    "        val_scaled_down = [x / scale_down_factor for x in data]\n",
    "        print(f\"\\n=== data[{i}] = {val_scaled_down[i]} / 근사해야 하는 값 = {math.sqrt(val_scaled_down[i])} ===\")\n",
    "        enc_orig = engine.encrypt(val_scaled_down, public_key)\n",
    "\n",
    "        # 2. sqrt 연산 적용\n",
    "        inv_val_scaled_down = sqrt(enc_orig, 30, relinearization_key, conjugation_key, bootstrap_key)\n",
    "        plt_inv_val = engine.decrypt(inv_val_scaled_down, secret_key)\n",
    "\n",
    "        # 3. 각 요소별 결과 출력\n",
    "        inv_results = [val for val in plt_inv_val[:len(data)]]\n",
    "        print(f\"sqrt({val_scaled_down[i]}) = {(inv_results[i])}\") # 실수 부분만 추출 후 print\n",
    "\n",
    "\n",
    "if __name__ == '__main__':\n",
    "    main()"
   ]
  },
  {
   "cell_type": "markdown",
   "id": "291106a7",
   "metadata": {},
   "source": [
    "Absolute value Algorithm\n",
    "- 절댓값를 진행하는 함수의 CKKS(Desilo) 근사 구현"
   ]
  },
  {
   "cell_type": "code",
   "execution_count": null,
   "id": "ff28ac2f",
   "metadata": {},
   "outputs": [
    {
     "name": "stdout",
     "output_type": "stream",
     "text": [
      "\n",
      "=== data[0] = 0.4444444444444444 / 근사해야 하는 값 = 0.4444444444444444 ===\n",
      "Bootstrapping performed\n",
      "Bootstrapping performed\n",
      "Bootstrapping performed\n",
      "Bootstrapping performed\n",
      "Bootstrapping performed\n",
      "Bootstrapping performed\n",
      "Bootstrapping performed\n",
      "Bootstrapping performed\n",
      "Abs(-2) = 1.996062787883651\n",
      "\n",
      "=== data[1] = 0.1111111111111111 / 근사해야 하는 값 = 0.1111111111111111 ===\n",
      "Bootstrapping performed\n",
      "Bootstrapping performed\n",
      "Bootstrapping performed\n",
      "Bootstrapping performed\n",
      "Bootstrapping performed\n",
      "Bootstrapping performed\n",
      "Bootstrapping performed\n",
      "Bootstrapping performed\n",
      "Abs(1) = 0.9980394411726492\n",
      "\n",
      "=== data[2] = 1.0 / 근사해야 하는 값 = 1.0 ===\n",
      "Bootstrapping performed\n",
      "Bootstrapping performed\n",
      "Bootstrapping performed\n"
     ]
    }
   ],
   "source": [
    "#Absolute value algorithm\n",
    "\n",
    "def sqrt(x, d, relinearization_key, conjugation_key, bootstrap_key):  # 0 <= x <= 1\n",
    "    a = x\n",
    "    b = engine.subtract(x, 1)  # b = x - 1\n",
    "    \n",
    "    for _ in range(d):\n",
    "        # a = a * (1 - b / 2)\n",
    "        factor = engine.subtract(1, engine.multiply(0.5, b))\n",
    "        a = engine.multiply(a, factor, relinearization_key)\n",
    "\n",
    "        # b = b^2 * (b - 3)/4\n",
    "        b_squared = engine.square(b, relinearization_key)\n",
    "        b_minus_3 = engine.subtract(b, 3)\n",
    "        numerator = engine.multiply(b_squared, b_minus_3, relinearization_key)\n",
    "        b = engine.multiply(numerator, 0.25)\n",
    "        if factor.level < 3 or a.level < 3 or b.level < 3:\n",
    "            a = engine.bootstrap(a,relinearization_key, conjugation_key, bootstrap_key)\n",
    "            b = engine.bootstrap(b,relinearization_key, conjugation_key, bootstrap_key)\n",
    "            print(\"Bootstrapping performed\")\n",
    "    return a\n",
    "\n",
    "def main():\n",
    "    data = [-2, 1, -3]\n",
    "    scale_down_factor = 3\n",
    "    for i, val in enumerate(data):\n",
    "        val_scaled_down = [(x / scale_down_factor)**2 for x in data]\n",
    "        # 1. 원본 값 암호화 및 복호화 확인\n",
    "        enc_orig = engine.encrypt(val_scaled_down, public_key)\n",
    "\n",
    "        # 2. Abs 연산 적용\n",
    "        inv_val_scaled_down = sqrt(enc_orig, 30, relinearization_key, conjugation_key, bootstrap_key)\n",
    "        plt_inv_val = engine.decrypt(inv_val_scaled_down, secret_key)\n",
    "        inv_results = [val for val in plt_inv_val[:len(data)]]\n",
    "        print(f\"Abs({data[i]}) = {(inv_results[i].real)*scale_down_factor}\") # 실수 부분만 추출 후 print\n",
    "    return 0\n",
    "\n",
    "\n",
    "if __name__ == '__main__':\n",
    "    main()"
   ]
  }
 ],
 "metadata": {
  "kernelspec": {
   "display_name": "Python 3",
   "language": "python",
   "name": "python3"
  },
  "language_info": {
   "codemirror_mode": {
    "name": "ipython",
    "version": 3
   },
   "file_extension": ".py",
   "mimetype": "text/x-python",
   "name": "python",
   "nbconvert_exporter": "python",
   "pygments_lexer": "ipython3",
   "version": "3.10.12"
  }
 },
 "nbformat": 4,
 "nbformat_minor": 5
}
