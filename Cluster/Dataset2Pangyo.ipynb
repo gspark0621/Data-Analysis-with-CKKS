{
 "cells": [
  {
   "cell_type": "code",
   "execution_count": 4,
   "id": "13611578",
   "metadata": {},
   "outputs": [
    {
     "name": "stdout",
     "output_type": "stream",
     "text": [
      "    latitude   longitude\n",
      "0  37.410935  127.107521\n",
      "1  37.383408  127.101599\n",
      "2  37.382274  127.105373\n",
      "3  37.399062  127.102229\n",
      "4  37.381513  127.104243\n"
     ]
    }
   ],
   "source": [
    "from scipy.io import arff\n",
    "import pandas as pd\n",
    "from sklearn.preprocessing import MinMaxScaler\n",
    "\n",
    "# 1. arff 파일 불러오기\n",
    "data, meta = arff.loadarff('Lsun.arff')\n",
    "df = pd.DataFrame(data)\n",
    "\n",
    "# 2. x, y 추출 및 정규화\n",
    "coords = df.iloc[:, :].values\n",
    "scaler = MinMaxScaler()\n",
    "coords_norm = scaler.fit_transform(coords)\n",
    "\n",
    "# 3. 판교 위도·경도 범위로 변환\n",
    "lat_min, lat_max = 37.38, 37.42\n",
    "lon_min, lon_max = 127.10, 127.15\n",
    "latitudes = lat_min + (lat_max - lat_min) * coords_norm[:, 0]\n",
    "longitudes = lon_min + (lon_max - lon_min) * coords_norm[:, 1]\n",
    "\n",
    "# 4. 결과 저장\n",
    "df['latitude'] = latitudes\n",
    "df['longitude'] = longitudes\n",
    "\n",
    "# 5. 결과 확인\n",
    "print(df[['latitude', 'longitude']].head())\n"
   ]
  }
 ],
 "metadata": {
  "kernelspec": {
   "display_name": "Python 3",
   "language": "python",
   "name": "python3"
  },
  "language_info": {
   "codemirror_mode": {
    "name": "ipython",
    "version": 3
   },
   "file_extension": ".py",
   "mimetype": "text/x-python",
   "name": "python",
   "nbconvert_exporter": "python",
   "pygments_lexer": "ipython3",
   "version": "3.10.12"
  }
 },
 "nbformat": 4,
 "nbformat_minor": 5
}
